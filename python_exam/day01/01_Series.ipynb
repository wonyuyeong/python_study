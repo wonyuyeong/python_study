{
 "cells": [
  {
   "cell_type": "code",
   "execution_count": 1,
   "id": "c49a21f5",
   "metadata": {},
   "outputs": [],
   "source": [
    "# ESC + b  => 현재 위치 아래 생성\n",
    "# ESC + a  => 현재 위치 위 생성\n",
    "# ESC + x => 삭제\n",
    "# ESC + z => 삭제 취소\n",
    "# Shift + Enter => cell 실행 다음 cell로 이동"
   ]
  },
  {
   "cell_type": "code",
   "execution_count": 2,
   "id": "3b74086f",
   "metadata": {},
   "outputs": [
    {
     "name": "stdout",
     "output_type": "stream",
     "text": [
      "Requirement already satisfied: pandas in c:\\users\\ict05-13\\anaconda3\\lib\\site-packages (2.2.2)\n",
      "Requirement already satisfied: numpy>=1.23.2 in c:\\users\\ict05-13\\anaconda3\\lib\\site-packages (from pandas) (1.26.4)\n",
      "Requirement already satisfied: python-dateutil>=2.8.2 in c:\\users\\ict05-13\\anaconda3\\lib\\site-packages (from pandas) (2.8.2)\n",
      "Requirement already satisfied: pytz>=2020.1 in c:\\users\\ict05-13\\anaconda3\\lib\\site-packages (from pandas) (2023.3.post1)\n",
      "Requirement already satisfied: tzdata>=2022.7 in c:\\users\\ict05-13\\anaconda3\\lib\\site-packages (from pandas) (2023.3)\n",
      "Requirement already satisfied: six>=1.5 in c:\\users\\ict05-13\\anaconda3\\lib\\site-packages (from python-dateutil>=2.8.2->pandas) (1.16.0)\n"
     ]
    }
   ],
   "source": [
    "# pandas 업그레이드\n",
    "!pip install --upgrade pandas"
   ]
  },
  {
   "cell_type": "markdown",
   "id": "d34decba",
   "metadata": {},
   "source": [
    "# 01-Series\n",
    "\n",
    "## #01.Pandas 개요\n",
    " - 데이터분석, 처리 등을 쉽게 하도록 만들어진 python package\n",
    " - 대용량 데이터를 보다 쉽고 안정적으로 처리 할 수 있다.\n",
    " \n",
    " ### 1) Pandas 설치\n",
    " > ipip install --upgrade pandas\n",
    " \n",
    " ### 2) Pandas의 자료 구조 ( List  > Numpy > Series  > DataFrame )\n",
    " \n",
    "   | 이름 | 설명 |\n",
    "   | ---- | ---- |\n",
    "   | Series | index 와 value로 구성된 numpy 배열의 확장 객체 |\n",
    "   | DataFrame | 열과 행으로 구성된 엑셀 표와 같은 구조로서 각 열을 이루는 단위는 Series 객체이다. |"
   ]
  },
  {
   "cell_type": "markdown",
   "id": "61f65ce5",
   "metadata": {},
   "source": [
    "## #02. 필요한 모듈 참조\n",
    "\n",
    "pandas 패키지에서 `Series 클래스`를 가져오기 "
   ]
  },
  {
   "cell_type": "code",
   "execution_count": 3,
   "id": "3cf40496",
   "metadata": {},
   "outputs": [],
   "source": [
    "from pandas import Series\n",
    "from matplotlib import pyplot"
   ]
  },
  {
   "cell_type": "markdown",
   "id": "4f94d8c5",
   "metadata": {},
   "source": [
    "## #03. Series 객체 생성하기\n",
    "Series 클래스의 생성자 파라미터로 리스트나 Numpy 배열을 전달한다.\n",
    "\n",
    "리스트 (혹은 배열)과 다른 점은 리스트의 경우 인덱스가 개념적으로만 존재하지만 Series는 인덱스가 명시적으로 존재한다."
   ]
  },
  {
   "cell_type": "markdown",
   "id": "5f633eef",
   "metadata": {},
   "source": [
    "### 1) 리스트 데이터 확인"
   ]
  },
  {
   "cell_type": "code",
   "execution_count": 4,
   "id": "406572dc",
   "metadata": {},
   "outputs": [
    {
     "data": {
      "text/plain": [
       "[10, 30, 50, 70, 90]"
      ]
     },
     "execution_count": 4,
     "metadata": {},
     "output_type": "execute_result"
    }
   ],
   "source": [
    "items = [10,30,50,70,90]\n",
    "items"
   ]
  },
  {
   "cell_type": "markdown",
   "id": "3dc3483d",
   "metadata": {},
   "source": [
    "### 2) 리스트 데이터 를 Series로 가공하기"
   ]
  },
  {
   "cell_type": "code",
   "execution_count": 5,
   "id": "c22170cb",
   "metadata": {},
   "outputs": [
    {
     "data": {
      "text/plain": [
       "0    10\n",
       "1    30\n",
       "2    50\n",
       "3    70\n",
       "4    90\n",
       "dtype: int64"
      ]
     },
     "execution_count": 5,
     "metadata": {},
     "output_type": "execute_result"
    }
   ],
   "source": [
    "column = Series(items)\n",
    "column"
   ]
  },
  {
   "cell_type": "markdown",
   "id": "23a87974",
   "metadata": {},
   "source": [
    "## #03. Series 데이터에 접근하기(인덱싱)\n",
    "\n",
    "### 1) 인덱스를 활용한 개별 값 확인"
   ]
  },
  {
   "cell_type": "code",
   "execution_count": 6,
   "id": "a615c4cd",
   "metadata": {},
   "outputs": [
    {
     "name": "stdout",
     "output_type": "stream",
     "text": [
      "10\n",
      "50\n"
     ]
    }
   ],
   "source": [
    "print(column[0])\n",
    "print(column[2])"
   ]
  },
  {
   "cell_type": "markdown",
   "id": "a80333b1",
   "metadata": {},
   "source": [
    "### 2) 시리즈의 값들만 추출\n",
    "타입을 확인하면 Numpy 배열임을 알 수 있다."
   ]
  },
  {
   "cell_type": "code",
   "execution_count": 7,
   "id": "86ab40fd",
   "metadata": {},
   "outputs": [
    {
     "name": "stdout",
     "output_type": "stream",
     "text": [
      "<class 'numpy.ndarray'>\n"
     ]
    },
    {
     "data": {
      "text/plain": [
       "array([10, 30, 50, 70, 90], dtype=int64)"
      ]
     },
     "execution_count": 7,
     "metadata": {},
     "output_type": "execute_result"
    }
   ],
   "source": [
    "v = column.values\n",
    "print(type(v))\n",
    "v"
   ]
  },
  {
   "cell_type": "markdown",
   "id": "3c8992f2",
   "metadata": {},
   "source": [
    "### 3) 시리즈의 값들을 저장하고 있는 numpy 배열을 list로 변환하기"
   ]
  },
  {
   "cell_type": "code",
   "execution_count": 8,
   "id": "fe83c653",
   "metadata": {},
   "outputs": [
    {
     "name": "stdout",
     "output_type": "stream",
     "text": [
      "<class 'list'>\n"
     ]
    },
    {
     "data": {
      "text/plain": [
       "[10, 30, 50, 70, 90]"
      ]
     },
     "execution_count": 8,
     "metadata": {},
     "output_type": "execute_result"
    }
   ],
   "source": [
    "v_list = list(v)\n",
    "print(type(v_list))\n",
    "v_list"
   ]
  },
  {
   "cell_type": "markdown",
   "id": "236674e6",
   "metadata": {},
   "source": [
    "### 04) 시리즈의 값들을 리스트로 직접 변환"
   ]
  },
  {
   "cell_type": "code",
   "execution_count": 9,
   "id": "de45f2a6",
   "metadata": {},
   "outputs": [
    {
     "name": "stdout",
     "output_type": "stream",
     "text": [
      "<class 'list'>\n"
     ]
    },
    {
     "data": {
      "text/plain": [
       "[10, 30, 50, 70, 90]"
      ]
     },
     "execution_count": 9,
     "metadata": {},
     "output_type": "execute_result"
    }
   ],
   "source": [
    "v_list2 = list(column.values)\n",
    "print(type(v_list2))\n",
    "v_list2"
   ]
  },
  {
   "cell_type": "markdown",
   "id": "9cf7828b",
   "metadata": {},
   "source": [
    "### 05) 시리즈의 색인(index)만 추출"
   ]
  },
  {
   "cell_type": "code",
   "execution_count": 10,
   "id": "6e584323",
   "metadata": {},
   "outputs": [
    {
     "name": "stdout",
     "output_type": "stream",
     "text": [
      "<class 'pandas.core.indexes.range.RangeIndex'>\n"
     ]
    },
    {
     "data": {
      "text/plain": [
       "RangeIndex(start=0, stop=5, step=1)"
      ]
     },
     "execution_count": 10,
     "metadata": {},
     "output_type": "execute_result"
    }
   ],
   "source": [
    "i = column.index\n",
    "print(type(i))\n",
    "i"
   ]
  },
  {
   "cell_type": "markdown",
   "id": "3c9abc61",
   "metadata": {},
   "source": [
    "### 06) 시리즈의 색인(index)를 list로 변환"
   ]
  },
  {
   "cell_type": "code",
   "execution_count": 11,
   "id": "3d44b42d",
   "metadata": {},
   "outputs": [
    {
     "name": "stdout",
     "output_type": "stream",
     "text": [
      "<class 'list'>\n"
     ]
    },
    {
     "data": {
      "text/plain": [
       "[0, 1, 2, 3, 4]"
      ]
     },
     "execution_count": 11,
     "metadata": {},
     "output_type": "execute_result"
    }
   ],
   "source": [
    "i_list = list(column.index)\n",
    "print(type(i_list))\n",
    "i_list"
   ]
  },
  {
   "cell_type": "markdown",
   "id": "4b55c379",
   "metadata": {},
   "source": [
    "### 07) 시리즈 객체 시각화\n",
    "> index는 x축이 되고 value는 y축이 된다."
   ]
  },
  {
   "cell_type": "code",
   "execution_count": 12,
   "id": "febfdd39",
   "metadata": {},
   "outputs": [
    {
     "data": {
      "image/png": "[encoded data removed]",
      "text/plain": [
       "<Figure size 640x480 with 1 Axes>"
      ]
     },
     "metadata": {},
     "output_type": "display_data"
    }
   ],
   "source": [
    "pyplot.figure()\n",
    "pyplot.plot(column)\n",
    "pyplot.show()"
   ]
  },
  {
   "cell_type": "markdown",
   "id": "1ea48b6f",
   "metadata": {},
   "source": [
    "## #04. 시리즈에서 조건에 따른 데이터 접근\n",
    "### 1) 특정 조건에 맞는 항목들만 추출\n",
    "> 객체이름[객체이름에 대한 조건]"
   ]
  },
  {
   "cell_type": "code",
   "execution_count": 13,
   "id": "5113be7e",
   "metadata": {},
   "outputs": [
    {
     "data": {
      "text/plain": [
       "2    50\n",
       "3    70\n",
       "4    90\n",
       "dtype: int64"
      ]
     },
     "execution_count": 13,
     "metadata": {},
     "output_type": "execute_result"
    }
   ],
   "source": [
    "# 30 초과인 항목들만 추출\n",
    "int1 = column[column > 30]\n",
    "int1"
   ]
  },
  {
   "cell_type": "markdown",
   "id": "2b0db789",
   "metadata": {},
   "source": [
    "### 2) AND 조건"
   ]
  },
  {
   "cell_type": "code",
   "execution_count": 14,
   "id": "90610790",
   "metadata": {},
   "outputs": [
    {
     "data": {
      "text/plain": [
       "1    30\n",
       "2    50\n",
       "3    70\n",
       "dtype: int64"
      ]
     },
     "execution_count": 14,
     "metadata": {},
     "output_type": "execute_result"
    }
   ],
   "source": [
    "# 30이상 and 90 미만인 항목들만 추출\n",
    "int2 = column[column>=30][column<90]\n",
    "int2"
   ]
  },
  {
   "cell_type": "markdown",
   "id": "9a1d8f42",
   "metadata": {},
   "source": [
    "### 3) OR 조건\n",
    "> 대괄호[] 안에 각 조건을 소괄호()로 묶고 파이프라인 | 으로 구분한다."
   ]
  },
  {
   "cell_type": "code",
   "execution_count": 15,
   "id": "5ac7a065",
   "metadata": {},
   "outputs": [
    {
     "data": {
      "text/plain": [
       "0    10\n",
       "3    70\n",
       "4    90\n",
       "dtype: int64"
      ]
     },
     "execution_count": 15,
     "metadata": {},
     "output_type": "execute_result"
    }
   ],
   "source": [
    "# 10이하 또는 70이상인 항목만 추출 -> () 필수\n",
    "int3 = column[(column<=10) | (column>=70)]\n",
    "int3"
   ]
  },
  {
   "cell_type": "markdown",
   "id": "0bec3018",
   "metadata": {},
   "source": [
    "## #05. 인덱스를 직접 지정하기"
   ]
  },
  {
   "cell_type": "code",
   "execution_count": 16,
   "id": "f3da9043",
   "metadata": {},
   "outputs": [
    {
     "data": {
      "text/plain": [
       "토    290000\n",
       "일    310000\n",
       "dtype: int64"
      ]
     },
     "execution_count": 16,
     "metadata": {},
     "output_type": "execute_result"
    }
   ],
   "source": [
    "week1 = Series([290000,310000], index=['토','일'])\n",
    "week1"
   ]
  },
  {
   "cell_type": "code",
   "execution_count": 17,
   "id": "15a8cc45",
   "metadata": {},
   "outputs": [
    {
     "data": {
      "text/plain": [
       "일    120000\n",
       "토    330000\n",
       "dtype: int64"
      ]
     },
     "execution_count": 17,
     "metadata": {},
     "output_type": "execute_result"
    }
   ],
   "source": [
    "week2 = Series([120000,330000], index=['일','토'])\n",
    "week2"
   ]
  },
  {
   "cell_type": "markdown",
   "id": "a4e20f04",
   "metadata": {},
   "source": [
    "## #1) 시리즈 객체의 사친연산\n",
    "> index 가 동일한 항목끼리 연산이 수행된다."
   ]
  },
  {
   "cell_type": "code",
   "execution_count": 18,
   "id": "ad353cd3",
   "metadata": {},
   "outputs": [
    {
     "data": {
      "text/plain": [
       "일    430000\n",
       "토    620000\n",
       "dtype: int64"
      ]
     },
     "execution_count": 18,
     "metadata": {},
     "output_type": "execute_result"
    }
   ],
   "source": [
    "결과값 = week1 + week2\n",
    "결과값"
   ]
  },
  {
   "cell_type": "code",
   "execution_count": 19,
   "id": "9621fad2",
   "metadata": {},
   "outputs": [
    {
     "data": {
      "text/plain": [
       "일    190000\n",
       "토    -40000\n",
       "dtype: int64"
      ]
     },
     "execution_count": 19,
     "metadata": {},
     "output_type": "execute_result"
    }
   ],
   "source": [
    "결과값 = week1 - week2\n",
    "결과값"
   ]
  },
  {
   "cell_type": "code",
   "execution_count": 20,
   "id": "132ef1a8",
   "metadata": {},
   "outputs": [
    {
     "data": {
      "text/plain": [
       "일    37200000000\n",
       "토    95700000000\n",
       "dtype: int64"
      ]
     },
     "execution_count": 20,
     "metadata": {},
     "output_type": "execute_result"
    }
   ],
   "source": [
    "결과값 = week1 * week2\n",
    "결과값"
   ]
  },
  {
   "cell_type": "code",
   "execution_count": 21,
   "id": "8bb45bbc",
   "metadata": {},
   "outputs": [
    {
     "data": {
      "text/plain": [
       "일    2.583333\n",
       "토    0.878788\n",
       "dtype: float64"
      ]
     },
     "execution_count": 21,
     "metadata": {},
     "output_type": "execute_result"
    }
   ],
   "source": [
    "결과값 = week1 / week2\n",
    "결과값"
   ]
  }
 ],
 "metadata": {
  "kernelspec": {
   "display_name": "Python 3 (ipykernel)",
   "language": "python",
   "name": "python3"
  },
  "language_info": {
   "codemirror_mode": {
    "name": "ipython",
    "version": 3
   },
   "file_extension": ".py",
   "mimetype": "text/x-python",
   "name": "python",
   "nbconvert_exporter": "python",
   "pygments_lexer": "ipython3",
   "version": "3.11.7"
  }
 },
 "nbformat": 4,
 "nbformat_minor": 5
}
